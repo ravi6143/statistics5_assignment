{
 "cells": [
  {
   "cell_type": "markdown",
   "id": "07b37a3e-7d77-46ba-a8eb-edb0686528f1",
   "metadata": {},
   "source": [
    "# Question - 1\n",
    "ans - "
   ]
  },
  {
   "cell_type": "code",
   "execution_count": 5,
   "id": "a780030b-9141-4580-87bf-e7f8a81f9b7e",
   "metadata": {},
   "outputs": [
    {
     "name": "stdout",
     "output_type": "stream",
     "text": [
      "margin of error is 1.7891941437171572\n",
      "for 95% confidence interval is 48.21 to 51.79\n"
     ]
    }
   ],
   "source": [
    "import scipy.stats as stats\n",
    "import math\n",
    "\n",
    "sample_mean = 50\n",
    "sample_std = 5\n",
    "sample_size = 30\n",
    "df = 29\n",
    "\n",
    "confidence_level = 0.95\n",
    "significance_level = 1-confidence_level\n",
    "\n",
    "margin_error = stats.norm.ppf(1-significance_level/2)*(sample_std/math.sqrt(sample_size))\n",
    "print(f\"margin of error is {margin_error}\")\n",
    "\n",
    "lower_bound = sample_mean - margin_error\n",
    "upper_bound = sample_mean + margin_error\n",
    "\n",
    "print(f\"for 95% confidence interval is {lower_bound:.2f} to {upper_bound:.2f}\")\n"
   ]
  },
  {
   "cell_type": "raw",
   "id": "d10e21ce-0424-462e-b8b2-cbe44ace176a",
   "metadata": {},
   "source": []
  },
  {
   "cell_type": "raw",
   "id": "4eee6ea7-9f09-40e9-aef4-5b465ba34fa6",
   "metadata": {},
   "source": []
  },
  {
   "cell_type": "markdown",
   "id": "43ea4000-5e41-4760-99af-f62db21c1091",
   "metadata": {},
   "source": [
    "# Question -2\n",
    "ans- "
   ]
  },
  {
   "cell_type": "code",
   "execution_count": 9,
   "id": "42f04224-b344-4815-8fcf-ef9f4a4d1584",
   "metadata": {},
   "outputs": [
    {
     "name": "stdout",
     "output_type": "stream",
     "text": [
      "chisquare stats is 0.6666666666666666 and p value is 0.984747879018509\n"
     ]
    }
   ],
   "source": [
    "import scipy.stats as stats\n",
    "import math\n",
    "import numpy as np\n",
    "\n",
    "\n",
    "\n",
    "observed_frequencies = np.array([1,1,1,1,1,1])\n",
    "\n",
    "\n",
    "\n",
    "expected_frequencies = np.array([0.20,0.20,0.20,0.10,0.10,0.20])*np.sum(observed_frequencies)\n",
    "\n",
    "\n",
    "\n",
    "\n",
    "significance_level = 0.05\n",
    "\n",
    "chisquare_statistics , p_value = stats.chisquare(f_obs = observed_frequencies , f_exp = expected_frequencies)\n",
    "print(f\"chisquare stats is {chisquare_statistics} and p value is {p_value}\")\n",
    "\n",
    "if p_value < significance_level:\n",
    "    print(\"reject the null hypothesis , distribution of categories do not match the expectation\")\n",
    "    \n",
    "else:\n",
    "    print(\"failed to reject the null hypothesis \")\n",
    "\n",
    "\n",
    "\n",
    "\n",
    "\n",
    "\n",
    "\n"
   ]
  },
  {
   "cell_type": "code",
   "execution_count": null,
   "id": "3c4f7685-04af-4acd-ab16-e2867246ebd7",
   "metadata": {},
   "outputs": [],
   "source": []
  },
  {
   "cell_type": "code",
   "execution_count": null,
   "id": "0b31e052-b3c0-44b5-8e6b-1a8790906705",
   "metadata": {},
   "outputs": [],
   "source": []
  },
  {
   "cell_type": "markdown",
   "id": "15dcd6aa-8ac9-4c2f-abb0-7b78c9a3c681",
   "metadata": {},
   "source": [
    "# Question - 3\n",
    "ans - "
   ]
  },
  {
   "cell_type": "code",
   "execution_count": 3,
   "id": "7de2cfac-67a9-4ab7-b9f7-37f21c3431ad",
   "metadata": {},
   "outputs": [
    {
     "name": "stdout",
     "output_type": "stream",
     "text": [
      "chi square static is 5.833333333333334 and p value is 0.05411376622282158\n",
      "failed to reject the null hypothesis , there is no significant association between outcomes and groups\n"
     ]
    }
   ],
   "source": [
    "import scipy.stats as stats \n",
    "import math \n",
    "import numpy as np\n",
    "\n",
    "alpha = 0.05\n",
    "observed_data = np.array([[20,10,15] , [15,25,20]])\n",
    "\n",
    "chi_square_static , p_value,dof , expected= stats.chi2_contingency(observed_data)\n",
    "\n",
    "print(f\"chi square static is {chi_square_static} and p value is {p_value}\")\n",
    "\n",
    "\n",
    "if p_value< alpha:\n",
    "    print(\"reject the null hypothesis , there is a significant association between outcomes and groups \")\n",
    "    \n",
    "else:\n",
    "    print(\"failed to reject the null hypothesis , there is no significant association between outcomes and groups\")\n"
   ]
  },
  {
   "cell_type": "code",
   "execution_count": null,
   "id": "7aa99f59-30b8-453c-820f-7888ad98c6d9",
   "metadata": {},
   "outputs": [],
   "source": []
  },
  {
   "cell_type": "code",
   "execution_count": null,
   "id": "33331e16-34b9-485b-be51-5f0cf3d819c7",
   "metadata": {},
   "outputs": [],
   "source": []
  },
  {
   "cell_type": "code",
   "execution_count": null,
   "id": "1633b667-0991-496c-b44a-76b7fee2e308",
   "metadata": {},
   "outputs": [],
   "source": []
  },
  {
   "cell_type": "markdown",
   "id": "6bf5f69f-d932-4a02-b61f-186d2a1c5461",
   "metadata": {},
   "source": [
    "# Question - 4\n",
    "ans - "
   ]
  },
  {
   "cell_type": "code",
   "execution_count": 4,
   "id": "4ec4beed-dbeb-4709-b679-5ec2944a047c",
   "metadata": {},
   "outputs": [
    {
     "name": "stdout",
     "output_type": "stream",
     "text": [
      "95% Confidence Interval: (0.0915, 0.1485)\n"
     ]
    }
   ],
   "source": [
    "import scipy.stats as stats\n",
    "import math\n",
    "\n",
    "n = 500\n",
    "\n",
    "x = 60\n",
    "\n",
    "\n",
    "p_hat = x / n\n",
    "\n",
    "confidence_level = 0.95\n",
    "\n",
    "\n",
    "standard_error = math.sqrt((p_hat * (1 - p_hat)) / n)\n",
    "\n",
    "\n",
    "margin_of_error = stats.norm.ppf((1 + confidence_level) / 2) * standard_error\n",
    "\n",
    "\n",
    "lower_bound = p_hat - margin_of_error\n",
    "upper_bound = p_hat + margin_of_error\n",
    "\n",
    "print(f\"95% Confidence Interval: ({lower_bound:.4f}, {upper_bound:.4f})\")\n"
   ]
  },
  {
   "cell_type": "code",
   "execution_count": null,
   "id": "3248c180-7479-4bbf-9bd3-711451b2d4e6",
   "metadata": {},
   "outputs": [],
   "source": []
  },
  {
   "cell_type": "code",
   "execution_count": null,
   "id": "0fa63430-b29d-4a53-9197-a86bc68a2921",
   "metadata": {},
   "outputs": [],
   "source": []
  },
  {
   "cell_type": "code",
   "execution_count": null,
   "id": "0dc379a5-06ce-4295-baa7-36a60157be97",
   "metadata": {},
   "outputs": [],
   "source": []
  },
  {
   "cell_type": "markdown",
   "id": "75f3b454-f335-46c1-96dd-ed78156e165d",
   "metadata": {},
   "source": [
    "# Question -5\n",
    "ans - "
   ]
  },
  {
   "cell_type": "code",
   "execution_count": 6,
   "id": "073886fb-3859-46d3-8d6f-9ab88ee2cabb",
   "metadata": {},
   "outputs": [
    {
     "name": "stdout",
     "output_type": "stream",
     "text": [
      "margin of error is 3.7226008019963013\n",
      "for 90% confidence interval 71.27739919800369 to 78.72260080199631\n"
     ]
    }
   ],
   "source": [
    "import scipy.stats as stats \n",
    "import math\n",
    "\n",
    "sample_size = 30\n",
    "df = sample_size - 1\n",
    "sample_mean = 75\n",
    "sample_std = 12\n",
    "\n",
    "confidence_level = 0.90\n",
    "alpha  = 1-confidence_level\n",
    "\n",
    "margin_error  = stats.t.ppf(1-alpha/2 , df)*(sample_std/math.sqrt(sample_size))\n",
    "print(f\"margin of error is {margin_error}\")\n",
    "\n",
    "lower_bound = sample_mean - margin_error\n",
    "upper_bound = sample_mean + margin_error\n",
    "\n",
    "\n",
    "print(f\"for 90% confidence interval {lower_bound} to {upper_bound}\")"
   ]
  },
  {
   "cell_type": "code",
   "execution_count": null,
   "id": "71e9f17c-38ac-4a48-8cfc-37a5c0c29c2a",
   "metadata": {},
   "outputs": [],
   "source": []
  },
  {
   "cell_type": "code",
   "execution_count": null,
   "id": "9430af88-ebdb-4cbb-82f0-e40be0d1f2b2",
   "metadata": {},
   "outputs": [],
   "source": []
  },
  {
   "cell_type": "code",
   "execution_count": null,
   "id": "2dd6f1ee-2cb7-4424-95d0-ed5c55331a2a",
   "metadata": {},
   "outputs": [],
   "source": []
  },
  {
   "cell_type": "markdown",
   "id": "5c6bd1e3-98a6-4cdb-b116-fc6c4920e130",
   "metadata": {},
   "source": [
    "# Question - 6\n",
    "ans - "
   ]
  },
  {
   "cell_type": "code",
   "execution_count": 7,
   "id": "983e5025-b244-4985-81bc-14284f6f8269",
   "metadata": {},
   "outputs": [
    {
     "data": {
      "image/png": "[encoded data removed]",
      "text/plain": [
       "<Figure size 800x600 with 1 Axes>"
      ]
     },
     "metadata": {},
     "output_type": "display_data"
    }
   ],
   "source": [
    "import scipy.stats as stats\n",
    "import matplotlib.pyplot as plt\n",
    "import numpy as np\n",
    "\n",
    "\n",
    "df = 10\n",
    "\n",
    "\n",
    "x = np.linspace(0, 30, 500)  \n",
    "\n",
    "\n",
    "pdf = stats.chi2.pdf(x, df)\n",
    "\n",
    "\n",
    "plt.figure(figsize=(8, 6))\n",
    "plt.plot(x, pdf, label=f\"Chi-square Distribution (df={df})\", color='b')\n",
    "\n",
    "\n",
    "x_shaded = np.linspace(0, 15, 500)  \n",
    "pdf_shaded = stats.chi2.pdf(x_shaded, df)\n",
    "plt.fill_between(x_shaded, pdf_shaded, color='lightgray', alpha=0.7, label=\"Chi-square < 15\")\n",
    "\n",
    "\n",
    "plt.xlabel(\"Chi-square Value\")\n",
    "plt.ylabel(\"Probability Density\")\n",
    "plt.title(\"Chi-square Distribution with Shaded Area\")\n",
    "plt.legend()\n",
    "\n",
    "plt.grid()\n",
    "plt.show()\n"
   ]
  },
  {
   "cell_type": "code",
   "execution_count": null,
   "id": "094f596c-2f88-48e8-84da-b261cdcee9c8",
   "metadata": {},
   "outputs": [],
   "source": []
  },
  {
   "cell_type": "code",
   "execution_count": null,
   "id": "1c664360-05fd-4e59-9d8f-f859cbf042e3",
   "metadata": {},
   "outputs": [],
   "source": []
  },
  {
   "cell_type": "code",
   "execution_count": null,
   "id": "0b5c1bb4-fc5c-4410-84f9-c55f3e2a4f9d",
   "metadata": {},
   "outputs": [],
   "source": []
  },
  {
   "cell_type": "markdown",
   "id": "e6810325-23ca-44b5-8e61-edd5d4c3ceeb",
   "metadata": {},
   "source": [
    "# Question - 7\n",
    "ans - "
   ]
  },
  {
   "cell_type": "code",
   "execution_count": 12,
   "id": "03162d56-86a2-4d90-9523-8ce9b84cbc1b",
   "metadata": {},
   "outputs": [
    {
     "name": "stdout",
     "output_type": "stream",
     "text": [
      "99% Confidence Interval: (0.4793, 0.5607)\n"
     ]
    }
   ],
   "source": [
    "import scipy.stats as stats\n",
    "import math\n",
    "\n",
    "\n",
    "n = 1000\n",
    "\n",
    "\n",
    "x = 520\n",
    "\n",
    "\n",
    "p_hat = x / n\n",
    "\n",
    "\n",
    "confidence_level = 0.99\n",
    "\n",
    "\n",
    "margin_of_error = stats.norm.ppf((1 + confidence_level) / 2) * math.sqrt((p_hat * (1 - p_hat)) / n)\n",
    "\n",
    "lower_bound = p_hat - margin_of_error\n",
    "upper_bound = p_hat + margin_of_error\n",
    "\n",
    "print(f\"99% Confidence Interval: ({lower_bound:.4f}, {upper_bound:.4f})\")\n"
   ]
  },
  {
   "cell_type": "code",
   "execution_count": null,
   "id": "b141018e-3654-4796-9ca1-2ffac0c4e19c",
   "metadata": {},
   "outputs": [],
   "source": []
  },
  {
   "cell_type": "code",
   "execution_count": null,
   "id": "221ec13e-9381-4f8a-9104-97d87d4328f2",
   "metadata": {},
   "outputs": [],
   "source": []
  },
  {
   "cell_type": "code",
   "execution_count": null,
   "id": "fa12c87a-f319-4b7c-9448-9ef9c137445f",
   "metadata": {},
   "outputs": [],
   "source": []
  },
  {
   "cell_type": "markdown",
   "id": "199564ac-426a-4585-91c9-d89fba56fba6",
   "metadata": {},
   "source": [
    "# Question - 8\n",
    "ans - "
   ]
  },
  {
   "cell_type": "code",
   "execution_count": 13,
   "id": "df656aaa-72bc-4fbf-9e86-f80ece2fcb9b",
   "metadata": {},
   "outputs": [
    {
     "name": "stdout",
     "output_type": "stream",
     "text": [
      "Fail to reject the null hypothesis: The coin does not appear to be biased.\n",
      "Chi-square Statistic: 1.00\n",
      "P-value: 0.3173\n"
     ]
    }
   ],
   "source": [
    "import scipy.stats as stats\n",
    "import numpy as np\n",
    "\n",
    "\n",
    "observed_tails = 45\n",
    "observed_heads = 100 - observed_tails\n",
    "\n",
    "\n",
    "expected_tails = 0.5 * 100\n",
    "expected_heads = 100 - expected_tails\n",
    "\n",
    "\n",
    "observed_frequencies = np.array([observed_heads, observed_tails])\n",
    "expected_frequencies = np.array([expected_heads, expected_tails])\n",
    "\n",
    "# Perform the chi-square goodness of fit test\n",
    "chi_square_statistic, p_value = stats.chisquare(f_obs=observed_frequencies, f_exp=expected_frequencies)\n",
    "\n",
    "# Significance level\n",
    "alpha = 0.05\n",
    "\n",
    "# Determine whether to reject the null hypothesis\n",
    "if p_value < alpha:\n",
    "    print(\"Reject the null hypothesis: The coin appears to be biased.\")\n",
    "else:\n",
    "    print(\"Fail to reject the null hypothesis: The coin does not appear to be biased.\")\n",
    "\n",
    "\n",
    "print(f\"Chi-square Statistic: {chi_square_statistic:.2f}\")\n",
    "print(f\"P-value: {p_value:.4f}\")\n"
   ]
  },
  {
   "cell_type": "code",
   "execution_count": null,
   "id": "bb4e0bb6-229f-4c2f-8e04-6affc45da03c",
   "metadata": {},
   "outputs": [],
   "source": []
  },
  {
   "cell_type": "code",
   "execution_count": null,
   "id": "53356d36-2a72-457c-8520-366ef4042f23",
   "metadata": {},
   "outputs": [],
   "source": []
  },
  {
   "cell_type": "markdown",
   "id": "4f0fcd11-ab0c-4e0e-a5e1-3fa39dd4c7ec",
   "metadata": {},
   "source": [
    "# Question - 9\n",
    "ans - "
   ]
  },
  {
   "cell_type": "code",
   "execution_count": 14,
   "id": "273b4781-21c5-4d3e-8567-b3d5f6113576",
   "metadata": {},
   "outputs": [
    {
     "name": "stdout",
     "output_type": "stream",
     "text": [
      "Reject the null hypothesis: There is a significant association between smoking status and lung cancer diagnosis.\n",
      "Chi-square Statistic: 12.06\n",
      "P-value: 0.0005\n",
      "Degrees of Freedom: 1\n",
      "Expected Frequencies:\n",
      "[[ 45. 155.]\n",
      " [ 45. 155.]]\n"
     ]
    }
   ],
   "source": [
    "import scipy.stats as stats\n",
    "import numpy as np\n",
    "\n",
    "\n",
    "contingency_table = np.array([[60, 140],\n",
    "                               [30, 170]])\n",
    "\n",
    "\n",
    "chi_square_statistic, p_value, dof, expected = stats.chi2_contingency(contingency_table)\n",
    "\n",
    "\n",
    "alpha = 0.05\n",
    "\n",
    "# Determine whether to reject the null hypothesis\n",
    "if p_value < alpha:\n",
    "    print(\"Reject the null hypothesis: There is a significant association between smoking status and lung cancer diagnosis.\")\n",
    "else:\n",
    "    print(\"Fail to reject the null hypothesis: There is no significant association between smoking status and lung cancer diagnosis.\")\n",
    "\n",
    "# Print the chi-square statistic, p-value, degrees of freedom, and expected frequencies\n",
    "print(f\"Chi-square Statistic: {chi_square_statistic:.2f}\")\n",
    "print(f\"P-value: {p_value:.4f}\")\n",
    "print(f\"Degrees of Freedom: {dof}\")\n",
    "print(\"Expected Frequencies:\")\n",
    "print(expected)\n"
   ]
  },
  {
   "cell_type": "code",
   "execution_count": null,
   "id": "bb8c9aac-a96b-480e-89ba-48f34fc9c9e9",
   "metadata": {},
   "outputs": [],
   "source": []
  },
  {
   "cell_type": "code",
   "execution_count": null,
   "id": "f02f5178-94ef-4a15-ba99-de742d251548",
   "metadata": {},
   "outputs": [],
   "source": []
  },
  {
   "cell_type": "code",
   "execution_count": null,
   "id": "c47368cd-ab7b-4238-a1c5-1cd25a9aa0cd",
   "metadata": {},
   "outputs": [],
   "source": []
  },
  {
   "cell_type": "markdown",
   "id": "a7eb8664-2c1d-44a0-9458-d6d27a9bea2f",
   "metadata": {},
   "source": [
    "# Question - 10\n",
    "ans- "
   ]
  },
  {
   "cell_type": "code",
   "execution_count": 15,
   "id": "1ac07abf-83c9-4035-a336-8538f4fc8089",
   "metadata": {},
   "outputs": [
    {
     "name": "stdout",
     "output_type": "stream",
     "text": [
      "Reject the null hypothesis: There is a significant association between chocolate preference and country of origin.\n",
      "Chi-square Statistic: 13.39\n",
      "P-value: 0.0012\n",
      "Degrees of Freedom: 2\n",
      "Expected Frequencies:\n",
      "[[212.5 162.5 125. ]\n",
      " [212.5 162.5 125. ]]\n"
     ]
    }
   ],
   "source": [
    "import scipy.stats as stats\n",
    "import numpy as np\n",
    "\n",
    "\n",
    "contingency_table = np.array([[200, 150, 150],\n",
    "                               [225, 175, 100]])\n",
    "\n",
    "\n",
    "chi_square_statistic, p_value, dof, expected = stats.chi2_contingency(contingency_table)\n",
    "\n",
    "\n",
    "alpha = 0.01\n",
    "\n",
    "# Determine whether to reject the null hypothesis\n",
    "if p_value < alpha:\n",
    "    print(\"Reject the null hypothesis: There is a significant association between chocolate preference and country of origin.\")\n",
    "else:\n",
    "    print(\"Fail to reject the null hypothesis: There is no significant association between chocolate preference and country of origin.\")\n",
    "\n",
    "# Print the chi-square statistic, p-value, degrees of freedom, and expected frequencies\n",
    "print(f\"Chi-square Statistic: {chi_square_statistic:.2f}\")\n",
    "print(f\"P-value: {p_value:.4f}\")\n",
    "print(f\"Degrees of Freedom: {dof}\")\n",
    "print(\"Expected Frequencies:\")\n",
    "print(expected)\n"
   ]
  },
  {
   "cell_type": "code",
   "execution_count": null,
   "id": "96151a1d-23b7-4a68-926b-4fd3f05d9730",
   "metadata": {},
   "outputs": [],
   "source": []
  },
  {
   "cell_type": "code",
   "execution_count": null,
   "id": "28b8b4c7-bb57-47cf-ba4b-d09342a4b707",
   "metadata": {},
   "outputs": [],
   "source": []
  },
  {
   "cell_type": "code",
   "execution_count": null,
   "id": "42349f57-e6ac-44e8-9d57-9c23ec8bf3d0",
   "metadata": {},
   "outputs": [],
   "source": []
  },
  {
   "cell_type": "markdown",
   "id": "4c67ce9a-f47a-421b-8a81-8544dbd7b0cc",
   "metadata": {},
   "source": [
    "# Question - 11\n",
    "ans - "
   ]
  },
  {
   "cell_type": "code",
   "execution_count": 5,
   "id": "8a4b1759-c645-4a38-98e6-eca8a35247cf",
   "metadata": {},
   "outputs": [
    {
     "name": "stdout",
     "output_type": "stream",
     "text": [
      "standard_error is 1.8257418583505538\n",
      "t statistic is 1.0954451150103321\n",
      "critical value is 2.045229642132703\n",
      "p value is 0.2823362372860698\n",
      "failed to reject the null hypothesis  , no evidence that population mean is significantly different\n"
     ]
    }
   ],
   "source": [
    "import scipy.stats as stats\n",
    "import math \n",
    "\n",
    "\n",
    "sample_size = 30\n",
    "sample_std = 10\n",
    "sample_mean = 72\n",
    "pop_mean = 70\n",
    "alpha = 0.05\n",
    "df = sample_size-1\n",
    "\n",
    "\n",
    "standard_error = sample_std/math.sqrt(sample_size)\n",
    "print(f\"standard_error is {standard_error}\")\n",
    "\n",
    "\n",
    "t_statistics = (sample_mean - pop_mean) / standard_error\n",
    "print(f\"t statistic is {t_statistics}\")\n",
    "\n",
    "critical_value = stats.t.ppf(1-alpha/2 , df)\n",
    "print(f\"critical value is {critical_value}\")\n",
    "\n",
    "\n",
    "p_value = 2*(1-stats.t.cdf(t_statistics , df))\n",
    "print(f\"p value is {p_value}\")\n",
    "\n",
    "\n",
    "\n",
    "if p_value<alpha:\n",
    "    print(\"we reject the null hypothesis , population mean is significantly different \")\n",
    "    \n",
    "else:\n",
    "    print(\"failed to reject the null hypothesis  , no evidence that population mean is significantly different\")\n"
   ]
  },
  {
   "cell_type": "code",
   "execution_count": null,
   "id": "3aeb0d42-3218-4e5d-8f7b-ede93922c106",
   "metadata": {},
   "outputs": [],
   "source": []
  }
 ],
 "metadata": {
  "kernelspec": {
   "display_name": "Python 3 (ipykernel)",
   "language": "python",
   "name": "python3"
  },
  "language_info": {
   "codemirror_mode": {
    "name": "ipython",
    "version": 3
   },
   "file_extension": ".py",
   "mimetype": "text/x-python",
   "name": "python",
   "nbconvert_exporter": "python",
   "pygments_lexer": "ipython3",
   "version": "3.10.8"
  }
 },
 "nbformat": 4,
 "nbformat_minor": 5
}
